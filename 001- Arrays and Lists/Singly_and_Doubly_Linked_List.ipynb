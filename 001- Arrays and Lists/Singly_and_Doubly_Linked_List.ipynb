{
  "nbformat": 4,
  "nbformat_minor": 0,
  "metadata": {
    "colab": {
      "provenance": []
    },
    "kernelspec": {
      "name": "python3",
      "display_name": "Python 3"
    },
    "language_info": {
      "name": "python"
    }
  },
  "cells": [
    {
      "cell_type": "markdown",
      "source": [],
      "metadata": {
        "id": "KFFaFbmU33NT"
      }
    },
    {
      "cell_type": "code",
      "execution_count": 4,
      "metadata": {
        "id": "DUvc_J_HtQVW"
      },
      "outputs": [],
      "source": [
        "# Singly Linked Lists/Nodes\n",
        "class SinglyNode:\n",
        "  def __init__(self, val, next=None):\n",
        "    self.val = val\n",
        "    self.next = next\n",
        "\n",
        "  def __str__(self):\n",
        "    return(str(self.val))\n"
      ]
    },
    {
      "cell_type": "markdown",
      "source": [],
      "metadata": {
        "id": "J4k5Ia_T32pc"
      }
    },
    {
      "cell_type": "code",
      "source": [
        "# Declaring the variables\n",
        "\n",
        "Head = SinglyNode(1)\n",
        "A = SinglyNode(3)\n",
        "B = SinglyNode(5)\n",
        "C = SinglyNode(7)\n",
        "print(Head)"
      ],
      "metadata": {
        "colab": {
          "base_uri": "https://localhost:8080/"
        },
        "id": "e5BdwNmLt2_7",
        "outputId": "c1ac1add-5351-445e-f598-7ea1ee6b44f7"
      },
      "execution_count": 5,
      "outputs": [
        {
          "output_type": "stream",
          "name": "stdout",
          "text": [
            "1\n"
          ]
        }
      ]
    },
    {
      "cell_type": "code",
      "source": [
        "# Connecting these nodes to each other after declaring them\n",
        "Head.next = A\n",
        "A.next = B\n",
        "B.next = C\n",
        "\n",
        "print(Head)"
      ],
      "metadata": {
        "colab": {
          "base_uri": "https://localhost:8080/"
        },
        "id": "1KJDS5m2uZWB",
        "outputId": "81b839e7-0455-4e93-ff4e-43c01a86109b"
      },
      "execution_count": 6,
      "outputs": [
        {
          "output_type": "stream",
          "name": "stdout",
          "text": [
            "1\n"
          ]
        }
      ]
    },
    {
      "cell_type": "code",
      "source": [
        "# Let's traverse through the node, and display them, Time Complexity: O(n).\n",
        "def display(head):\n",
        "  curr = Head\n",
        "  while curr:\n",
        "    print(curr)\n",
        "    curr = curr.next\n",
        "\n",
        "display(Head)"
      ],
      "metadata": {
        "colab": {
          "base_uri": "https://localhost:8080/"
        },
        "id": "Zz95BSFSusAj",
        "outputId": "acc2d68c-f898-4f46-f851-045ddd7328f8"
      },
      "execution_count": 7,
      "outputs": [
        {
          "output_type": "stream",
          "name": "stdout",
          "text": [
            "1\n",
            "3\n",
            "5\n",
            "7\n"
          ]
        }
      ]
    },
    {
      "cell_type": "code",
      "source": [
        "# Let's display this into a list. Time Complexity: O(n)\n",
        "def display_list(head):\n",
        "  curr = head\n",
        "  node_list = []\n",
        "  while curr:\n",
        "    node_list.append(str(curr.val))\n",
        "    curr = curr.next\n",
        "\n",
        "  print((' -> ').join(node_list))\n",
        "\n",
        "display_list(Head)"
      ],
      "metadata": {
        "colab": {
          "base_uri": "https://localhost:8080/"
        },
        "id": "5svcC6L8vwbg",
        "outputId": "154876ea-d580-4a21-f1d2-27c857356a7b"
      },
      "execution_count": 10,
      "outputs": [
        {
          "output_type": "stream",
          "name": "stdout",
          "text": [
            "1 -> 3 -> 5 -> 7\n"
          ]
        }
      ]
    },
    {
      "cell_type": "code",
      "source": [
        "# Search for a node value, Time complexity: O(n)\n",
        "def search(head, val):\n",
        "  curr = head\n",
        "  while curr:\n",
        "    if curr.val == val:\n",
        "      return True\n",
        "    curr = curr.next\n",
        "  return False\n",
        "\n",
        "search(Head, 7)"
      ],
      "metadata": {
        "colab": {
          "base_uri": "https://localhost:8080/"
        },
        "id": "xVDIfEMRxqvI",
        "outputId": "2dc7db6f-ffd6-4eeb-c20e-aa2f12cb8f0a"
      },
      "execution_count": 13,
      "outputs": [
        {
          "output_type": "execute_result",
          "data": {
            "text/plain": [
              "True"
            ]
          },
          "metadata": {},
          "execution_count": 13
        }
      ]
    },
    {
      "cell_type": "code",
      "source": [
        "# Replace the head with another value, Time complexity: 0(1)\n",
        "def replace(head, val):\n",
        "  head.val = val\n",
        "\n",
        "  return head\n",
        "\n",
        "Head = replace(Head, 9)\n",
        "display_list(Head)"
      ],
      "metadata": {
        "colab": {
          "base_uri": "https://localhost:8080/"
        },
        "id": "R-DPm6kmyzIW",
        "outputId": "739774cd-17c6-416b-f93f-8e487738698f"
      },
      "execution_count": 14,
      "outputs": [
        {
          "output_type": "stream",
          "name": "stdout",
          "text": [
            "9 -> 3 -> 5 -> 7\n"
          ]
        }
      ]
    },
    {
      "cell_type": "code",
      "source": [
        "# Doubly Linked Lists/Nodes\n",
        "\n",
        "class DoublyNode:\n",
        "  def __init__(self, val, next=None, prev=None):\n",
        "    self.val = val\n",
        "    self.next = next\n",
        "    self.prev = prev\n",
        "\n",
        "  def __str__(self):\n",
        "    return(str(self.val))\n",
        "\n"
      ],
      "metadata": {
        "id": "R64q-Fjk0g6S"
      },
      "execution_count": 15,
      "outputs": []
    },
    {
      "cell_type": "code",
      "source": [
        "Head = DoublyNode(1)\n",
        "Tail = DoublyNode(11)\n",
        "A = DoublyNode(3)\n",
        "B = SinglyNode(5)\n",
        "C = SinglyNode(7)\n",
        "\n",
        "# Linking the nodes\n",
        "Head.next = A\n",
        "A.next = B\n",
        "B.next = C\n",
        "C.next = Tail\n",
        "\n",
        "A.prev = Head\n",
        "B.prev = A\n",
        "C.prev = B\n",
        "Tail.prev = C\n",
        "\n",
        "print(Tail)"
      ],
      "metadata": {
        "colab": {
          "base_uri": "https://localhost:8080/"
        },
        "id": "6kGS4o-h1GUy",
        "outputId": "818d3c3b-b93e-4a36-b958-1a6c561b5635"
      },
      "execution_count": 16,
      "outputs": [
        {
          "output_type": "stream",
          "name": "stdout",
          "text": [
            "11\n"
          ]
        }
      ]
    },
    {
      "cell_type": "code",
      "source": [
        "# Traversing through the nodes, time complexity: O(n)\n",
        "def traverse(head, tail):\n",
        "  curr = head\n",
        "  while curr:\n",
        "    print(curr)\n",
        "    curr = curr.next\n",
        "\n",
        "traverse(Head, Tail)"
      ],
      "metadata": {
        "colab": {
          "base_uri": "https://localhost:8080/"
        },
        "id": "4Jmb8vA11wcF",
        "outputId": "6a8b417d-6097-4226-d2b1-19afe0941130"
      },
      "execution_count": 17,
      "outputs": [
        {
          "output_type": "stream",
          "name": "stdout",
          "text": [
            "1\n",
            "3\n",
            "5\n",
            "7\n",
            "11\n"
          ]
        }
      ]
    },
    {
      "cell_type": "code",
      "source": [
        "# displaying in a list, time complexity: O(n)\n",
        "def display(head, tail):\n",
        "  curr = head\n",
        "  node_list = []\n",
        "  while curr:\n",
        "    node_list.append(str(curr.val))\n",
        "    curr = curr.next # Stops the loop when curr.next = True\n",
        "\n",
        "  print((' <-> ').join(node_list))\n",
        "\n",
        "display(Head, Tail)\n"
      ],
      "metadata": {
        "colab": {
          "base_uri": "https://localhost:8080/"
        },
        "id": "RmIOo2gK2Dsh",
        "outputId": "5aee4b93-f264-4ed6-94fb-5fe04a1f198d"
      },
      "execution_count": 21,
      "outputs": [
        {
          "output_type": "stream",
          "name": "stdout",
          "text": [
            "1 <-> 3 <-> 5 <-> 7 <-> 11\n"
          ]
        }
      ]
    }
  ]
}