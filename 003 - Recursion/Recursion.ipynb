{
  "nbformat": 4,
  "nbformat_minor": 0,
  "metadata": {
    "colab": {
      "provenance": []
    },
    "kernelspec": {
      "name": "python3",
      "display_name": "Python 3"
    },
    "language_info": {
      "name": "python"
    }
  },
  "cells": [
    {
      "cell_type": "code",
      "execution_count": 3,
      "metadata": {
        "colab": {
          "base_uri": "https://localhost:8080/"
        },
        "id": "5nQbLqwMhK7e",
        "outputId": "3f32453c-657e-4b8b-9088-7c6ba9459156"
      },
      "outputs": [
        {
          "output_type": "execute_result",
          "data": {
            "text/plain": [
              "55"
            ]
          },
          "metadata": {},
          "execution_count": 3
        }
      ],
      "source": [
        "# Recursion\n",
        "# Recursion works best with linked lists, trees and graphs\n",
        "# First example: Fibonacci sequence, a sequence where the next number is the sum of the previous two numbers\n",
        "# Use and base cases\n",
        "# F(0) = 0\n",
        "# F(1) = 1\n",
        "\n",
        "# Time: O(2^n), Space: O(n)\n",
        "def F(n):\n",
        "  if n == 0:\n",
        "    return 0\n",
        "\n",
        "  elif n == 1:\n",
        "    return 1\n",
        "\n",
        "  else:\n",
        "    return F(n-1) + F(n-2)\n",
        "\n",
        "\n",
        "F(10)"
      ]
    },
    {
      "cell_type": "code",
      "source": [
        "# Using recursion to print reversed items in a list\n",
        "\n",
        "class SinglyNode:\n",
        "    def __init__(self, val, next=None):\n",
        "      self.val = val\n",
        "      self.next = next\n",
        "\n",
        "    def __str__(self):\n",
        "      return str(self.val)\n",
        "\n",
        "Head = SinglyNode(1)\n",
        "A = SinglyNode(3)\n",
        "B = SinglyNode(5)\n",
        "C = SinglyNode(7)\n",
        "\n",
        "Head.next = A\n",
        "A.next = B\n",
        "B.next = C\n",
        "\n",
        "print(A)"
      ],
      "metadata": {
        "colab": {
          "base_uri": "https://localhost:8080/"
        },
        "id": "Ox02JNS_lrpA",
        "outputId": "d0368fde-de3c-4d17-b76e-6691ebcb0a94"
      },
      "execution_count": 4,
      "outputs": [
        {
          "output_type": "stream",
          "name": "stdout",
          "text": [
            "3\n"
          ]
        }
      ]
    },
    {
      "cell_type": "code",
      "source": [
        "# A recursive function that prints the reversed list\n",
        "\n",
        "def reverse(node):\n",
        "  if not node: # If node(Head) doesn't exist, return nothing, Null or None\n",
        "    return\n",
        "\n",
        "  # If node exists, then\n",
        "\n",
        "  reverse(node.next)\n",
        "  print(node)\n",
        "\n",
        "\n",
        "reverse(Head)"
      ],
      "metadata": {
        "colab": {
          "base_uri": "https://localhost:8080/"
        },
        "id": "uIKO3kWPmTQL",
        "outputId": "e2d2cb27-a5eb-442b-f680-e16fd7eb91d0"
      },
      "execution_count": 5,
      "outputs": [
        {
          "output_type": "stream",
          "name": "stdout",
          "text": [
            "7\n",
            "5\n",
            "3\n",
            "1\n"
          ]
        }
      ]
    }
  ]
}