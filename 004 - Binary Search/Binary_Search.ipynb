{
  "nbformat": 4,
  "nbformat_minor": 0,
  "metadata": {
    "colab": {
      "provenance": []
    },
    "kernelspec": {
      "name": "python3",
      "display_name": "Python 3"
    },
    "language_info": {
      "name": "python"
    }
  },
  "cells": [
    {
      "cell_type": "code",
      "execution_count": 4,
      "metadata": {
        "colab": {
          "base_uri": "https://localhost:8080/"
        },
        "id": "iA6-93usF-tE",
        "outputId": "56e26fb6-3425-4d49-9fdb-b4388301e9c6"
      },
      "outputs": [
        {
          "output_type": "execute_result",
          "data": {
            "text/plain": [
              "False"
            ]
          },
          "metadata": {},
          "execution_count": 4
        }
      ],
      "source": [
        "# Binary search\n",
        "\n",
        "# Traditional binary search:\n",
        "  # Will define two pointers(indices) L and R, and try and get the target.\n",
        "  # Time complexity: O(log n)\n",
        "  # Space complexity: O(1)\n",
        "\n",
        "A = [-5, -3, -1, 1, 3, 5]\n",
        "\n",
        "def binary_search(arr, target):\n",
        "  n = len(arr)\n",
        "  L = arr[0]\n",
        "  R = arr[n - 1]\n",
        "\n",
        "  while L <= R:\n",
        "    M = L + ((R - L) // 2)\n",
        "    if target == arr[M]:\n",
        "      return True\n",
        "\n",
        "    elif target < arr[M]:\n",
        "      R = M - 1\n",
        "\n",
        "    else:\n",
        "      L = M + 1\n",
        "\n",
        "  return False\n",
        "\n",
        "binary_search(A, 8)\n",
        "\n"
      ]
    },
    {
      "cell_type": "code",
      "source": [
        "# Over - under technique, also known as Condition Based\n",
        "B = [True, True, True, False, False, False]\n",
        "\n",
        "def over_under(arr):\n",
        "  n = len(arr)\n",
        "  L = 0\n",
        "  R = n - 1\n",
        "\n",
        "  while L < R:\n",
        "    M = L + ((R - L) // 2)\n",
        "\n",
        "    if B[M]:\n",
        "      return arr[M]\n",
        "\n",
        "    else:\n",
        "      L = M + 1\n",
        "\n",
        "  return L\n",
        "\n",
        "over_under(B)"
      ],
      "metadata": {
        "colab": {
          "base_uri": "https://localhost:8080/"
        },
        "id": "97e0TkpSIUTl",
        "outputId": "e71d6e64-5c2e-43eb-8b60-75c491a39949"
      },
      "execution_count": 10,
      "outputs": [
        {
          "output_type": "execute_result",
          "data": {
            "text/plain": [
              "False"
            ]
          },
          "metadata": {},
          "execution_count": 10
        }
      ]
    },
    {
      "cell_type": "code",
      "source": [
        "A = [1, 3, 5, 7, 4, 2, 1]\n",
        "\n",
        "def binary_search(arr):\n",
        "    n = len(arr)\n",
        "    L = 0\n",
        "    R = n - 1\n",
        "\n",
        "    while L < R:\n",
        "        M = L + ((R - L) // 2)\n",
        "\n",
        "        if arr[M] < arr[M + 1]:\n",
        "            L = M + 1\n",
        "\n",
        "        else:\n",
        "            return arr[M]\n",
        "\n",
        "    return L\n",
        "\n",
        "binary_search(A)"
      ],
      "metadata": {
        "colab": {
          "base_uri": "https://localhost:8080/"
        },
        "id": "5RvAC5jjFEVZ",
        "outputId": "2cea5eb9-b713-4e1d-b097-326e8a00e017"
      },
      "execution_count": 8,
      "outputs": [
        {
          "output_type": "execute_result",
          "data": {
            "text/plain": [
              "7"
            ]
          },
          "metadata": {},
          "execution_count": 8
        }
      ]
    }
  ]
}