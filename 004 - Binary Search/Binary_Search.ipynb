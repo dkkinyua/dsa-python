{
  "nbformat": 4,
  "nbformat_minor": 0,
  "metadata": {
    "colab": {
      "provenance": []
    },
    "kernelspec": {
      "name": "python3",
      "display_name": "Python 3"
    },
    "language_info": {
      "name": "python"
    }
  },
  "cells": [
    {
      "cell_type": "code",
      "execution_count": 4,
      "metadata": {
        "colab": {
          "base_uri": "https://localhost:8080/"
        },
        "id": "iA6-93usF-tE",
        "outputId": "56e26fb6-3425-4d49-9fdb-b4388301e9c6"
      },
      "outputs": [
        {
          "output_type": "execute_result",
          "data": {
            "text/plain": [
              "False"
            ]
          },
          "metadata": {},
          "execution_count": 4
        }
      ],
      "source": [
        "# Binary search\n",
        "\n",
        "# Traditional binary search:\n",
        "  # Will define two pointers(indices) L and R, and try and get the target.\n",
        "  # Time complexity: O(log n)\n",
        "  # Space complexity: O(1)\n",
        "\n",
        "A = [-5, -3, -1, 1, 3, 5]\n",
        "\n",
        "def binary_search(arr, target):\n",
        "  n = len(arr)\n",
        "  L = arr[0]\n",
        "  R = arr[n - 1]\n",
        "\n",
        "  while L <= R:\n",
        "    M = L + ((R - L) // 2)\n",
        "    if target == arr[M]:\n",
        "      return True\n",
        "\n",
        "    elif target < arr[M]:\n",
        "      R = M - 1\n",
        "\n",
        "    else:\n",
        "      L = M + 1\n",
        "\n",
        "  return False\n",
        "\n",
        "binary_search(A, 8)\n",
        "\n"
      ]
    },
    {
      "cell_type": "code",
      "source": [
        "# Over - under technique, also known as Condition Based\n",
        "B = [True, True, True, False, False, False]\n",
        "\n",
        "def over_under(arr):\n",
        "  n = len(arr)\n",
        "  L = arr[0]\n",
        "  R = arr[n - 1]\n",
        "\n",
        "  while L < R:\n",
        "    M = L + ((R - L) // 2)\n",
        "\n",
        "    if B[M]:\n",
        "      M = R\n",
        "\n",
        "    else:\n",
        "      L = M + 1\n",
        "\n",
        "\n",
        "\n",
        "over_under(B)"
      ],
      "metadata": {
        "colab": {
          "base_uri": "https://localhost:8080/"
        },
        "id": "97e0TkpSIUTl",
        "outputId": "79a97323-04e6-420d-e592-1d2494c15550"
      },
      "execution_count": 9,
      "outputs": [
        {
          "output_type": "execute_result",
          "data": {
            "text/plain": [
              "True"
            ]
          },
          "metadata": {},
          "execution_count": 9
        }
      ]
    }
  ]
}