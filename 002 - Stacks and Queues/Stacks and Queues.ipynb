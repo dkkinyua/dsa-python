{
  "cells": [
    {
      "cell_type": "code",
      "source": [
        "#Stacks - LIFO\n",
        "\n",
        "stk = []\n",
        "stk\n"
      ],
      "metadata": {
        "id": "-WO-l9G2Gt7-",
        "outputId": "f3865f6e-36ea-4761-e083-df950d662a8e",
        "colab": {
          "base_uri": "https://localhost:8080/"
        }
      },
      "execution_count": 1,
      "outputs": [
        {
          "output_type": "execute_result",
          "data": {
            "text/plain": [
              "[]"
            ]
          },
          "metadata": {},
          "execution_count": 1
        }
      ]
    },
    {
      "cell_type": "code",
      "source": [
        "# To append at the end - *O(1)\n",
        "stk.append(1)\n",
        "stk.append(2)\n",
        "stk.append(3)\n",
        "stk.append(4)\n",
        "\n",
        "stk\n"
      ],
      "metadata": {
        "id": "N8sQD8_RKxGM",
        "outputId": "a53c37f3-a980-4c13-afcc-53531b86184f",
        "colab": {
          "base_uri": "https://localhost:8080/"
        }
      },
      "execution_count": 2,
      "outputs": [
        {
          "output_type": "execute_result",
          "data": {
            "text/plain": [
              "[1, 2, 3, 4]"
            ]
          },
          "metadata": {},
          "execution_count": 2
        }
      ]
    },
    {
      "cell_type": "code",
      "source": [
        "# Peek - O(1)\n",
        "lst = stk[-1]\n",
        "\n",
        "lst\n"
      ],
      "metadata": {
        "id": "8ldQkuR4K8Fw",
        "outputId": "ff47c73b-c633-46a4-c2c0-641fe7a7afb8",
        "colab": {
          "base_uri": "https://localhost:8080/"
        }
      },
      "execution_count": 3,
      "outputs": [
        {
          "output_type": "execute_result",
          "data": {
            "text/plain": [
              "4"
            ]
          },
          "metadata": {},
          "execution_count": 3
        }
      ]
    },
    {
      "cell_type": "code",
      "source": [
        "# Pop at the end - O(1)\n",
        "\n",
        "stk.pop()\n",
        "\n",
        "stk"
      ],
      "metadata": {
        "id": "R46sewufLEOx",
        "outputId": "00eaa870-e5c7-409e-9e1b-3bc41ec6d66f",
        "colab": {
          "base_uri": "https://localhost:8080/"
        }
      },
      "execution_count": 4,
      "outputs": [
        {
          "output_type": "execute_result",
          "data": {
            "text/plain": [
              "[1, 2, 3]"
            ]
          },
          "metadata": {},
          "execution_count": 4
        }
      ]
    },
    {
      "cell_type": "code",
      "source": [
        "# Queues - First In First Out\n",
        "\n",
        "from collections import deque\n",
        "\n",
        "q = deque()\n",
        "\n",
        "q"
      ],
      "metadata": {
        "id": "0O2P-mKJLLPY",
        "outputId": "6f9bb60d-fd31-409c-c95a-c85c8abde425",
        "colab": {
          "base_uri": "https://localhost:8080/"
        }
      },
      "execution_count": 5,
      "outputs": [
        {
          "output_type": "execute_result",
          "data": {
            "text/plain": [
              "deque([])"
            ]
          },
          "metadata": {},
          "execution_count": 5
        }
      ]
    },
    {
      "cell_type": "code",
      "source": [
        "# Append - O(1)\n",
        "\n",
        "q.append(1)\n",
        "q.append(2)\n",
        "q.append(3)\n",
        "q.append(4)\n",
        "\n",
        "q"
      ],
      "metadata": {
        "id": "4wcYO1sRLVAo",
        "outputId": "588792ad-3874-48eb-bb71-f7252a1798c6",
        "colab": {
          "base_uri": "https://localhost:8080/"
        }
      },
      "execution_count": 7,
      "outputs": [
        {
          "output_type": "execute_result",
          "data": {
            "text/plain": [
              "deque([1, 2, 3, 4, 1, 2, 3, 4])"
            ]
          },
          "metadata": {},
          "execution_count": 7
        }
      ]
    },
    {
      "cell_type": "code",
      "source": [
        "# Pop element on the left - O(1)\n",
        "q.popleft()\n",
        "\n",
        "q"
      ],
      "metadata": {
        "id": "8XQGr-waLhMp",
        "outputId": "1ef73f4e-61af-4bbb-c517-1fbe822c7ce8",
        "colab": {
          "base_uri": "https://localhost:8080/"
        }
      },
      "execution_count": 8,
      "outputs": [
        {
          "output_type": "execute_result",
          "data": {
            "text/plain": [
              "deque([2, 3, 4, 1, 2, 3, 4])"
            ]
          },
          "metadata": {},
          "execution_count": 8
        }
      ]
    },
    {
      "cell_type": "code",
      "source": [
        "# Peek - O(1)\n",
        "q[-1]"
      ],
      "metadata": {
        "id": "bDMVwxLCLpRj",
        "outputId": "ddf6f063-0565-41f7-e5f8-a27139517186",
        "colab": {
          "base_uri": "https://localhost:8080/"
        }
      },
      "execution_count": 9,
      "outputs": [
        {
          "output_type": "execute_result",
          "data": {
            "text/plain": [
              "4"
            ]
          },
          "metadata": {},
          "execution_count": 9
        }
      ]
    }
  ],
  "metadata": {
    "colab": {
      "name": "Welcome to Colaboratory",
      "toc_visible": true,
      "provenance": []
    },
    "kernelspec": {
      "display_name": "Python 3",
      "name": "python3"
    }
  },
  "nbformat": 4,
  "nbformat_minor": 0
}