{
  "nbformat": 4,
  "nbformat_minor": 0,
  "metadata": {
    "colab": {
      "provenance": []
    },
    "kernelspec": {
      "name": "python3",
      "display_name": "Python 3"
    },
    "language_info": {
      "name": "python"
    }
  },
  "cells": [
    {
      "cell_type": "code",
      "execution_count": 1,
      "metadata": {
        "colab": {
          "base_uri": "https://localhost:8080/"
        },
        "id": "qiaD_A08Dexo",
        "outputId": "cc0d239c-54c3-45f9-be22-88505782bd69"
      },
      "outputs": [
        {
          "output_type": "stream",
          "name": "stdout",
          "text": [
            "1\n"
          ]
        }
      ],
      "source": [
        "\"\"\"\n",
        "Binary trees.\n",
        "\n",
        "# 1 Approach: Depth First Search\n",
        "Searches the height of the tree, going up and down.\n",
        "\n",
        "\"\"\"\n",
        "\n",
        "#Initialize node and tree\n",
        "class TreeNode:\n",
        "  def __init__(self, val, left=None, right=None):\n",
        "    self.val = val\n",
        "    self.left = left\n",
        "    self.right = right\n",
        "\n",
        "  def __str__(self):\n",
        "    return str(self.val)\n",
        "\n",
        "\n",
        "A = TreeNode(1)\n",
        "B = TreeNode(2)\n",
        "C = TreeNode(3)\n",
        "D = TreeNode(4)\n",
        "E = TreeNode(5)\n",
        "F = TreeNode(10)\n",
        "\n",
        "A.left = B\n",
        "A.right = C\n",
        "B.left = D\n",
        "B.right = E\n",
        "C.left = F\n",
        "\n",
        "print(A)"
      ]
    },
    {
      "cell_type": "code",
      "source": [
        "# i. Pre-order DPS: Approach -> Node, Left, Right, Method: Recursion\n",
        "\n",
        "def pre_order(node):\n",
        "  if not node:\n",
        "    return 'No tree'\n",
        "\n",
        "  print(node)\n",
        "  pre_order(node.left)\n",
        "  pre_order(node.right)\n",
        "\n",
        "\n",
        "pre_order(A)"
      ],
      "metadata": {
        "colab": {
          "base_uri": "https://localhost:8080/"
        },
        "id": "FhhfgQX9FIQP",
        "outputId": "712e8152-a733-4146-a4f9-570ffe632689"
      },
      "execution_count": 2,
      "outputs": [
        {
          "output_type": "stream",
          "name": "stdout",
          "text": [
            "1\n",
            "2\n",
            "4\n",
            "5\n",
            "3\n",
            "10\n"
          ]
        }
      ]
    },
    {
      "cell_type": "code",
      "source": [
        "# In-order DPS, Approach -> Left, Node, Right, Method: Recursion\n",
        "def in_order(node):\n",
        "    if not node:\n",
        "      return 'No tree'\n",
        "\n",
        "    in_order(node.left)\n",
        "    print(node)\n",
        "    in_order(node.right)\n",
        "\n",
        "\n",
        "in_order(A)"
      ],
      "metadata": {
        "colab": {
          "base_uri": "https://localhost:8080/"
        },
        "id": "1ppVt0v8Fhuh",
        "outputId": "f01db8bd-94b6-4909-dc8b-a24992a17f41"
      },
      "execution_count": 4,
      "outputs": [
        {
          "output_type": "stream",
          "name": "stdout",
          "text": [
            "4\n",
            "2\n",
            "5\n",
            "1\n",
            "10\n",
            "3\n"
          ]
        }
      ]
    },
    {
      "cell_type": "code",
      "source": [
        "# Post-order DPS, Approach -> Left, Right, Node, Method: Recursion\n",
        "def post_order(node):\n",
        "    if not node:\n",
        "      return 'No tree'\n",
        "\n",
        "    post_order(node.left)\n",
        "    post_order(node.right)\n",
        "    print(node)\n",
        "\n",
        "\n",
        "post_order(A)"
      ],
      "metadata": {
        "colab": {
          "base_uri": "https://localhost:8080/"
        },
        "id": "Uh01nsDJF1Ro",
        "outputId": "7448465e-ed33-4fdc-de76-63a12ca61d0f"
      },
      "execution_count": 5,
      "outputs": [
        {
          "output_type": "stream",
          "name": "stdout",
          "text": [
            "4\n",
            "5\n",
            "2\n",
            "10\n",
            "3\n",
            "1\n"
          ]
        }
      ]
    },
    {
      "cell_type": "code",
      "source": [
        "# Pre-order DPS, Method: Iterating, or looping through\n",
        "\n",
        "def pre_order_iterate(node):\n",
        "  stk = [node]\n",
        "\n",
        "  while stk:\n",
        "    node = stk.pop()\n",
        "\n",
        "    print(node)\n",
        "    # We are starting with the right side first as this is a stack, so the left side starts before the right\n",
        "    if node.right:\n",
        "      stk.append(node.right)\n",
        "\n",
        "    if node.left:\n",
        "      stk.append(node.left)\n",
        "\n",
        "\n",
        "pre_order_iterate(A)"
      ],
      "metadata": {
        "colab": {
          "base_uri": "https://localhost:8080/"
        },
        "id": "K56MEzQEGGmF",
        "outputId": "fc6ad5a9-b818-4bc0-c9cb-666e8d919994"
      },
      "execution_count": 7,
      "outputs": [
        {
          "output_type": "stream",
          "name": "stdout",
          "text": [
            "1\n",
            "2\n",
            "4\n",
            "5\n",
            "3\n",
            "10\n"
          ]
        }
      ]
    },
    {
      "cell_type": "code",
      "source": [
        "# Approach 2: Breadth First Search / Level Order Traversal, Time: O(N), Space: O(N)\n",
        "from collections import deque\n",
        "\n",
        "def level_order(node):\n",
        "  q = deque()\n",
        "  q.append(node)\n",
        "\n",
        "  while q:\n",
        "    node = q.popleft()\n",
        "    print(node)\n",
        "    # Because this is a queue, the left side starts.\n",
        "    if node.left:\n",
        "      q.append(node.left)\n",
        "\n",
        "    if node.right:\n",
        "      q.append(node.right)\n",
        "\n",
        "level_order(A)"
      ],
      "metadata": {
        "colab": {
          "base_uri": "https://localhost:8080/"
        },
        "id": "JAATH5TNH4ny",
        "outputId": "3933172e-4a30-40c7-f88c-08dabc727f55"
      },
      "execution_count": 10,
      "outputs": [
        {
          "output_type": "stream",
          "name": "stdout",
          "text": [
            "1\n",
            "2\n",
            "3\n",
            "4\n",
            "5\n",
            "10\n"
          ]
        }
      ]
    },
    {
      "cell_type": "code",
      "source": [
        "# Search for a value in the tree using DFS. Time: O(N), Space: O(N)\n",
        "\n",
        "def search(node, target):\n",
        "  if not node:\n",
        "    return False\n",
        "\n",
        "  if node.val == target:\n",
        "    return True\n",
        "\n",
        "  return search(node.left, target) or search(node.right, target)\n",
        "\n",
        "search(A, 2)"
      ],
      "metadata": {
        "colab": {
          "base_uri": "https://localhost:8080/"
        },
        "id": "3tbIYCtAJDwL",
        "outputId": "a57de260-c14f-4fa8-d699-e7d5388b6443"
      },
      "execution_count": 12,
      "outputs": [
        {
          "output_type": "execute_result",
          "data": {
            "text/plain": [
              "True"
            ]
          },
          "metadata": {},
          "execution_count": 12
        }
      ]
    },
    {
      "cell_type": "code",
      "source": [
        "\"\"\"\n",
        "Binary Search Trees\n",
        "Time: O(log n)\n",
        "Space: O(N)\n",
        "\n",
        "\"\"\"\n",
        "\n",
        "G = TreeNode(6)\n",
        "H = TreeNode(4)\n",
        "I = TreeNode(3)\n",
        "J = TreeNode(5)\n",
        "K = TreeNode(9)\n",
        "L = TreeNode(8)\n",
        "\n",
        "G.left = H\n",
        "G.right = K\n",
        "H.left = I\n",
        "H.right = J\n",
        "K.left = L\n",
        "\n",
        "print(G)"
      ],
      "metadata": {
        "colab": {
          "base_uri": "https://localhost:8080/"
        },
        "id": "TzAJrUTFKSqS",
        "outputId": "d62d1079-e3b2-459c-c364-103e8d8763c4"
      },
      "execution_count": 13,
      "outputs": [
        {
          "output_type": "stream",
          "name": "stdout",
          "text": [
            "6\n"
          ]
        }
      ]
    },
    {
      "cell_type": "code",
      "source": [
        "def search_bst(node, target):\n",
        "  if not node:\n",
        "    return False\n",
        "\n",
        "  if target == node.val:\n",
        "    return True\n",
        "\n",
        "  if target < node.val:\n",
        "    return search_bst(node.left, target)\n",
        "\n",
        "  else:\n",
        "    return search_bst(node.right, target)\n",
        "\n",
        "search_bst(G, 9)"
      ],
      "metadata": {
        "colab": {
          "base_uri": "https://localhost:8080/"
        },
        "id": "sXLMEey9LCqz",
        "outputId": "c00fc366-fa58-4d8b-d893-f8009324afe4"
      },
      "execution_count": 17,
      "outputs": [
        {
          "output_type": "execute_result",
          "data": {
            "text/plain": [
              "True"
            ]
          },
          "metadata": {},
          "execution_count": 17
        }
      ]
    }
  ]
}